{
 "cells": [
  {
   "cell_type": "markdown",
   "id": "9f619511",
   "metadata": {},
   "source": [
    "# 10. DataFrame 활용\n",
    "---"
   ]
  },
  {
   "cell_type": "code",
   "execution_count": null,
   "id": "cbc1b04f",
   "metadata": {},
   "outputs": [],
   "source": [
    "import pandas as pd\n",
    "import matplotlib.pyplot as plt\n",
    "import matplotlib\n",
    "\n",
    "matplotlib.rcParams['font.family'] = \"Malgun Gothic\" # windows\n",
    "# matplotlib.rcParams['font family'] = \"AppleGothic\" # Mac\n",
    "matplotlib.rcParams[\"font.size\"] = 15\n",
    "matplotlib.rcParams[\"axes.unicode_minus\"] = False # 한글 폰트 사용 시, 마이너스 글자가 깨지는 현상 해결\n",
    "\n",
    "labels = [\"강백호\", \"서태웅\", \"정대만\"] # 이름\n",
    "values = [190, 187, 184] # 키\n",
    "\n",
    "# 수평 막대 그래프\n",
    "plt.barh(labels, values)"
   ]
  },
  {
   "cell_type": "code",
   "execution_count": null,
   "id": "fa45faa3",
   "metadata": {},
   "outputs": [],
   "source": []
  },
  {
   "cell_type": "code",
   "execution_count": null,
   "id": "e4010e45",
   "metadata": {},
   "outputs": [],
   "source": []
  }
 ],
 "metadata": {
  "kernelspec": {
   "display_name": "Python 3 (ipykernel)",
   "language": "python",
   "name": "python3"
  },
  "language_info": {
   "codemirror_mode": {
    "name": "ipython",
    "version": 3
   },
   "file_extension": ".py",
   "mimetype": "text/x-python",
   "name": "python",
   "nbconvert_exporter": "python",
   "pygments_lexer": "ipython3",
   "version": "3.9.7"
  }
 },
 "nbformat": 4,
 "nbformat_minor": 5
}
